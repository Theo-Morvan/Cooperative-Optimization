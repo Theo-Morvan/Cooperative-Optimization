{
 "cells": [
  {
   "cell_type": "code",
   "execution_count": 1,
   "metadata": {},
   "outputs": [],
   "source": [
    "import pandas as pd\n",
    "import numpy as np\n",
    "import matplotlib.pyplot as plt\n",
    "import seaborn as sns\n",
    "from main_functions import *\n",
    "from DGD_DP import DGD_DP as dgd_dp\n",
    "import pickle\n",
    "import os\n",
    "%load_ext autoreload\n",
    "%autoreload 2\n"
   ]
  },
  {
   "cell_type": "code",
   "execution_count": 3,
   "metadata": {},
   "outputs": [],
   "source": [
    "with open(os.path.join(\"data\",\"first_database.pkl\"), \"rb\") as f:\n",
    "    x,y = pickle.load(f)\n",
    "n= 100\n",
    "m = 10\n",
    "#mélange et séléction des données\n",
    "X = x[:n]\n",
    "Y = y[:n]\n",
    "stack = np.stack([X,Y]).T\n",
    "np.random.shuffle(stack)\n",
    "x_shuffle = stack.T[0]\n",
    "y_shuffle = stack.T[1]\n",
    "centers_kernel = np.array([x_shuffle[10*i] for i in range(10)])\n",
    "kernel_center_of_agent = np.array([[0,1],[2,3],[4,5],[6,7],[8,9]])\n",
    "data_point_of_agent = np.array([np.arange(20*i,20*i+20) for i in range(5)])"
   ]
  },
  {
   "cell_type": "code",
   "execution_count": 4,
   "metadata": {},
   "outputs": [],
   "source": [
    "#matrices d'adjacence pour dual decomposition et ADMM\n",
    "A1 = np.ones((5,5)) #fully connected\n",
    "A2 = np.array([[1,0,1,1,1],[0,1,1,0,1],[1,1,1,1,1],[1,0,1,1,0],[1,1,1,0,1]]) #small world\n",
    "A3 = np.array([[1,1,0,0,1],[1,1,1,0,0],[0,1,1,1,0],[0,0,1,1,1],[1,0,0,1,1]]) #cycle\n",
    "A4 = np.array([[1,1,0,0,1],[1,1,1,0,0],[0,1,1,1,0],[0,0,1,1,1],[0,0,0,1,1]]) #line\n",
    "A5= np.array([[1,1,1,1,0],[1,1,1,1,0],[1,1,1,1,0],[1,1,1,1,0],[0,0,0,0,1]]) #non connexe"
   ]
  },
  {
   "cell_type": "code",
   "execution_count": null,
   "metadata": {},
   "outputs": [],
   "source": []
  },
  {
   "cell_type": "code",
   "execution_count": 5,
   "metadata": {},
   "outputs": [],
   "source": [
    "instance_pb = instance(x_shuffle,centers_kernel,y_shuffle,kernel_center_of_agent,data_point_of_agent,A2,0.5)"
   ]
  },
  {
   "cell_type": "code",
   "execution_count": 7,
   "metadata": {},
   "outputs": [
    {
     "name": "stdout",
     "output_type": "stream",
     "text": [
      "[-0.07506045  0.71943576  0.3676139  -0.24501944  0.7974386  -0.27637492\n",
      "  0.98171623  0.0710878  -0.54246145 -0.47082757]\n"
     ]
    }
   ],
   "source": [
    "solver_non_cooperative = gradient_descent(instance_pb,0.0001,2000,np.ones(10))\n",
    "true_solution = solver_non_cooperative.solve(verbose=True)\n",
    "instance_pb.true_solution =  true_solution\n",
    "print(solver_non_cooperative.curent_solution)"
   ]
  },
  {
   "cell_type": "code",
   "execution_count": 11,
   "metadata": {},
   "outputs": [
    {
     "name": "stdout",
     "output_type": "stream",
     "text": [
      "Iterration : 0\n",
      "Agent 0 norme du gradient : 1054.3512482763\n",
      "Agent 1 norme du gradient : 898.9346960327821\n",
      "Agent 2 norme du gradient : 1149.2763345598437\n",
      "Agent 3 norme du gradient : 983.4848273412903\n",
      "Agent 4 norme du gradient : 946.0542781935135\n",
      "Agent 1 objective : 7557.002698695957\n",
      "Agent 2 objective : 7557.002698695957\n",
      "Agent 3 objective : 7557.002698695957\n",
      "Agent 4 objective : 7557.002698695957\n",
      "Agent 5 objective : 7557.002698695957\n",
      "Iterration : 1\n",
      "Agent 0 norme du gradient : 384098.16448684636\n",
      "Agent 1 norme du gradient : 279694.50963851163\n",
      "Agent 2 norme du gradient : 440391.58163799695\n",
      "Agent 3 norme du gradient : 311977.9407412836\n",
      "Agent 4 norme du gradient : 302011.8897102537\n",
      "Agent 1 objective : 914897336.5238891\n",
      "Agent 2 objective : 673203708.4013481\n",
      "Agent 3 objective : 1104745182.8256588\n",
      "Agent 4 objective : 808125572.9869102\n",
      "Agent 5 objective : 745466359.973995\n",
      "Iterration : 2\n",
      "Agent 0 norme du gradient : 70015889.47070777\n",
      "Agent 1 norme du gradient : 43486637.223685585\n",
      "Agent 2 norme du gradient : 84432315.09346038\n",
      "Agent 3 norme du gradient : 49476192.320105195\n",
      "Agent 4 norme du gradient : 48195402.150692634\n",
      "Agent 1 objective : 30064571562451.484\n",
      "Agent 2 objective : 16252209685396.809\n",
      "Agent 3 objective : 40579035346043.16\n",
      "Agent 4 objective : 20281611573385.496\n",
      "Agent 5 objective : 18922751027270.863\n",
      "Iterration : 3\n",
      "Agent 0 norme du gradient : 8516494145.765629\n",
      "Agent 1 norme du gradient : 4498329597.572341\n",
      "Agent 2 norme du gradient : 10822585707.71471\n",
      "Agent 3 norme du gradient : 5220608028.828182\n",
      "Agent 4 norme du gradient : 5117612786.957239\n",
      "Agent 1 objective : 4.440010348728777e+17\n",
      "Agent 2 objective : 1.7383359257492525e+17\n",
      "Agent 3 objective : 6.666432902001421e+17\n",
      "Agent 4 objective : 2.256998131494291e+17\n",
      "Agent 5 objective : 2.1318072592290525e+17\n",
      "Iterration : 4\n",
      "Agent 0 norme du gradient : 778489711191.3533\n",
      "Agent 1 norme du gradient : 347042232646.48346\n",
      "Agent 2 norme du gradient : 1046748251527.6017\n",
      "Agent 3 norme du gradient : 410719332319.2464\n",
      "Agent 4 norme du gradient : 405278644675.8268\n",
      "Agent 1 objective : 3.707024028018916e+21\n",
      "Agent 2 objective : 1.0343640056144885e+21\n",
      "Agent 3 objective : 6.235838123042346e+21\n",
      "Agent 4 objective : 1.3963301751477657e+21\n",
      "Agent 5 objective : 1.3360232185179118e+21\n",
      "Iterration : 5\n",
      "Agent 0 norme du gradient : 57116664670222.23\n",
      "Agent 1 norme du gradient : 21159689236069.3\n",
      "Agent 2 norme du gradient : 81806671406653.28\n",
      "Agent 3 norme du gradient : 25508406506908.88\n",
      "Agent 4 norme du gradient : 25355231914218.637\n",
      "Agent 1 objective : 1.993960689842221e+25\n",
      "Agent 2 objective : 3.843550334104598e+24\n",
      "Agent 3 objective : 3.808676768055971e+25\n",
      "Agent 4 objective : 5.382250293621433e+24\n",
      "Agent 5 objective : 5.223495533902551e+24\n",
      "Iterration : 6\n",
      "Agent 0 norme du gradient : 3508487809505257.5\n",
      "Agent 1 norme du gradient : 1049066091950856.9\n",
      "Agent 2 norme du gradient : 5406134746463251.0\n",
      "Agent 3 norme du gradient : 1284791747331270.0\n",
      "Agent 4 norme du gradient : 1288425017513220.8\n",
      "Agent 1 objective : 7.51728155890347e+28\n",
      "Agent 2 objective : 9.439871901916797e+27\n",
      "Agent 3 objective : 1.663272730595495e+29\n",
      "Agent 4 objective : 1.3637799474861193e+28\n",
      "Agent 5 objective : 1.3462350513060855e+28\n",
      "Iterration : 7\n",
      "Agent 0 norme du gradient : 1.858429658888169e+17\n",
      "Agent 1 norme du gradient : 4.242784063900116e+16\n",
      "Agent 2 norme du gradient : 3.1231315315894726e+17\n",
      "Agent 3 norme du gradient : 5.246271088768967e+16\n",
      "Agent 4 norme du gradient : 5.3254511500773336e+16\n",
      "Agent 1 objective : 2.1071533200795628e+32\n",
      "Agent 2 objective : 1.541624182310304e+31\n",
      "Agent 3 objective : 5.551005346579694e+32\n",
      "Agent 4 objective : 2.268953836369013e+31\n",
      "Agent 5 objective : 2.2919835009393266e+31\n",
      "Iterration : 8\n",
      "Agent 0 norme du gradient : 8.675615431872423e+18\n",
      "Agent 1 norme du gradient : 1.3451842746419343e+18\n",
      "Agent 2 norme du gradient : 1.6190576358475729e+19\n",
      "Agent 3 norme du gradient : 1.6508490445671206e+18\n",
      "Agent 4 norme du gradient : 1.711114883183027e+18\n",
      "Agent 1 objective : 4.587113375065242e+35\n",
      "Agent 2 objective : 1.5442179401381114e+34\n",
      "Agent 3 objective : 1.491855650610619e+36\n",
      "Agent 4 objective : 2.2360702434611167e+34\n",
      "Agent 5 objective : 2.3488823187479744e+34\n",
      "Iterration : 9\n",
      "Agent 0 norme du gradient : 3.628496858917613e+20\n",
      "Agent 1 norme du gradient : 2.7351470914998923e+19\n",
      "Agent 2 norme du gradient : 7.696089387003327e+20\n",
      "Agent 3 norme du gradient : 3.062316293102305e+19\n",
      "Agent 4 norme du gradient : 3.3833389544733254e+19\n",
      "Agent 1 objective : 8.014475470388421e+38\n",
      "Agent 2 objective : 6.310302119987255e+36\n",
      "Agent 3 objective : 3.3710410084271475e+39\n",
      "Agent 4 objective : 7.582132488461374e+36\n",
      "Agent 5 objective : 8.977875639671552e+36\n",
      "Iterration : 10\n",
      "Agent 0 norme du gradient : 1.3763103713002453e+22\n",
      "Agent 1 norme du gradient : 2.2425920038995132e+20\n",
      "Agent 2 norme du gradient : 3.416193893815934e+22\n",
      "Agent 3 norme du gradient : 6.051314861210724e+20\n",
      "Agent 4 norme du gradient : 4.7774717774587645e+20\n",
      "Agent 1 objective : 1.1515210180942965e+42\n",
      "Agent 2 objective : 5.274240332316324e+38\n",
      "Agent 3 objective : 6.642643032553282e+42\n",
      "Agent 4 objective : 3.4324815637112886e+39\n",
      "Agent 5 objective : 2.39323783784884e+39\n",
      "Iterration : 11\n",
      "Agent 0 norme du gradient : 4.7722450771358404e+23\n",
      "Agent 1 norme du gradient : 6.1102252115298525e+22\n",
      "Agent 2 norme du gradient : 1.43823918152861e+24\n",
      "Agent 3 norme du gradient : 9.887350256328546e+22\n",
      "Agent 4 norme du gradient : 9.527899317239878e+22\n",
      "Agent 1 objective : 1.382308120101335e+45\n",
      "Agent 2 objective : 3.293776188142315e+43\n",
      "Agent 3 objective : 1.1774953804628054e+46\n",
      "Agent 4 objective : 8.318553597470659e+43\n",
      "Agent 5 objective : 7.732903693861859e+43\n",
      "[[ 1.57092572e+22  1.43118561e+22  6.73765556e+21  1.53693397e+22\n",
      "   1.37886389e+22  1.52767805e+22  4.81740175e+21  1.58225961e+22\n",
      "   1.36435263e+22  1.07865657e+22]\n",
      " [-4.77567249e+21 -3.34704856e+21 -3.54131975e+21 -4.95757855e+21\n",
      "  -3.12293150e+21 -4.98650288e+21 -2.70229193e+21 -4.58858635e+21\n",
      "  -5.12516522e+21 -4.76411728e+21]\n",
      " [ 5.49319183e+22  3.95010655e+22  3.57524918e+22  5.66040219e+22\n",
      "   3.69485784e+22  5.68449372e+22  2.60303618e+22  5.30658295e+22\n",
      "   5.71861481e+22  5.13529007e+22]\n",
      " [-7.40509424e+21 -5.46590993e+21 -5.10829058e+21 -7.60988629e+21\n",
      "  -5.13653642e+21 -7.63935230e+21 -3.87719624e+21 -7.17539542e+21\n",
      "  -7.68533233e+21 -6.99631232e+21]\n",
      " [-7.32391899e+21 -5.41399889e+21 -5.14305175e+21 -7.53595645e+21\n",
      "  -5.09364290e+21 -7.56745552e+21 -3.89324852e+21 -7.09216758e+21\n",
      "  -7.64909461e+21 -7.01081685e+21]]\n"
     ]
    }
   ],
   "source": [
    "solver_DGD = dgd_dp(instance_pb,1e-1, 12,np.ones(10))\n",
    "solver_DGD.solve(laplacian_scale=1e-2,gamma_init=0.5,verbose=True,package_loss = False, probability_package_loss = 0, decay=0.9)\n",
    "print(solver_DGD.current_solution)"
   ]
  },
  {
   "cell_type": "code",
   "execution_count": 10,
   "metadata": {},
   "outputs": [
    {
     "name": "stdout",
     "output_type": "stream",
     "text": [
      "[-0.07506045  0.71943576  0.3676139  -0.24501944  0.7974386  -0.27637492\n",
      "  0.98171623  0.0710878  -0.54246145 -0.47082757]\n"
     ]
    }
   ],
   "source": [
    "print(solver_non_cooperative.curent_solution)"
   ]
  },
  {
   "cell_type": "code",
   "execution_count": 9,
   "metadata": {},
   "outputs": [
    {
     "name": "stdout",
     "output_type": "stream",
     "text": [
      "[[-0.07742128  0.72189477  0.36069501 -0.24925914  0.79989307 -0.28099657\n",
      "   0.97788428  0.07011467 -0.55118716 -0.48149035]\n",
      " [-0.0559573   0.73796744  0.37602481 -0.22720497  0.81504866 -0.25885481\n",
      "   0.98954904  0.09093174 -0.52881437 -0.46087627]\n",
      " [-0.07366843  0.72416332  0.36824015 -0.24498701  0.80206534 -0.27661406\n",
      "   0.98448976  0.07349897 -0.54540144 -0.47422028]\n",
      " [-0.09265097  0.70957512  0.35469354 -0.26449701  0.78821612 -0.29620656\n",
      "   0.97453517  0.05506746 -0.5653274  -0.49273159]\n",
      " [-0.06989083  0.72457082  0.37524822 -0.24049156  0.8021127  -0.27198183\n",
      "   0.99095133  0.07667317 -0.53937414 -0.46722104]]\n"
     ]
    }
   ],
   "source": [
    "solver_DGD = DGD(instance_pb,0.001,1000,np.ones(10))\n",
    "solver_DGD.solve(verbose=False,package_loss = False, probability_package_loss = 0)\n",
    "print(solver_DGD.curent_solution)"
   ]
  },
  {
   "cell_type": "code",
   "execution_count": 45,
   "metadata": {},
   "outputs": [
    {
     "data": {
      "text/plain": [
       "0.1258925411794167"
      ]
     },
     "execution_count": 45,
     "metadata": {},
     "output_type": "execute_result"
    }
   ],
   "source": [
    "1/(10**(0.9))"
   ]
  },
  {
   "cell_type": "code",
   "execution_count": 47,
   "metadata": {},
   "outputs": [
    {
     "data": {
      "text/plain": [
       "1.4328769708732303"
      ]
     },
     "execution_count": 47,
     "metadata": {},
     "output_type": "execute_result"
    }
   ],
   "source": [
    "((11**(0.3))/1)**(1/2)"
   ]
  },
  {
   "cell_type": "code",
   "execution_count": 48,
   "metadata": {},
   "outputs": [
    {
     "data": {
      "text/plain": [
       "1.0"
      ]
     },
     "execution_count": 48,
     "metadata": {},
     "output_type": "execute_result"
    }
   ],
   "source": [
    "((1**(0.3))/1)**(1/2)"
   ]
  },
  {
   "cell_type": "code",
   "execution_count": null,
   "metadata": {},
   "outputs": [],
   "source": []
  }
 ],
 "metadata": {
  "kernelspec": {
   "display_name": "base",
   "language": "python",
   "name": "python3"
  },
  "language_info": {
   "codemirror_mode": {
    "name": "ipython",
    "version": 3
   },
   "file_extension": ".py",
   "mimetype": "text/x-python",
   "name": "python",
   "nbconvert_exporter": "python",
   "pygments_lexer": "ipython3",
   "version": "3.8.13"
  },
  "orig_nbformat": 4,
  "vscode": {
   "interpreter": {
    "hash": "7ae746a38a9599f77271757951e3979675c1ad086f453ae5211f23a6ccb63a37"
   }
  }
 },
 "nbformat": 4,
 "nbformat_minor": 2
}
