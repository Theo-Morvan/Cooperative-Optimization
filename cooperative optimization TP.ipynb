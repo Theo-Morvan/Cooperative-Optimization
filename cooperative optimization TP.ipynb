{
 "cells": [
  {
   "attachments": {},
   "cell_type": "markdown",
   "metadata": {},
   "source": [
    "# Projet : Cooperative kernel regression"
   ]
  },
  {
   "cell_type": "code",
   "execution_count": 1,
   "metadata": {},
   "outputs": [],
   "source": [
    "import numpy as np\n",
    "import matplotlib.pyplot as plt\n",
    "import pickle"
   ]
  },
  {
   "cell_type": "code",
   "execution_count": 2,
   "metadata": {},
   "outputs": [
    {
     "data": {
      "image/png": "[encoded data removed]",
      "text/plain": [
       "<Figure size 432x288 with 1 Axes>"
      ]
     },
     "metadata": {
      "needs_background": "light"
     },
     "output_type": "display_data"
    }
   ],
   "source": [
    "with open(\"first_database.pkl\", \"rb\") as f:\n",
    "    x,y = pickle.load(f)\n",
    "\n",
    "X = x[:100]\n",
    "Y = y[:100]\n",
    "stack = np.stack([X,Y]).T\n",
    "np.random.shuffle(stack)\n",
    "x_shuffle = stack.T[0]\n",
    "y_shuffle = stack.T[1]\n",
    "\n",
    "\n",
    "plt.scatter(x_shuffle,y_shuffle)\n",
    "plt.title(\"Visualisation des données\")\n",
    "plt.xlabel(\"$X_i$\")\n",
    "plt.ylabel(\"$Y_i$\")\n",
    "plt.show()\n"
   ]
  },
  {
   "cell_type": "code",
   "execution_count": 5,
   "metadata": {},
   "outputs": [],
   "source": [
    "def kernel(x,y):\n",
    "    return np.exp(-(x-y)**2)"
   ]
  },
  {
   "cell_type": "code",
   "execution_count": 12,
   "metadata": {},
   "outputs": [
    {
     "name": "stdout",
     "output_type": "stream",
     "text": [
      "132587.5573261096\n",
      "[ 2.27951660e+01  4.90206299e+01 -5.76328750e+04 -5.15402500e+04\n",
      " -8.12326660e+01 -7.20845703e+02 -4.98817139e+01  1.91625391e+03\n",
      "  1.07690250e+05  3.48000977e+02]\n"
     ]
    }
   ],
   "source": [
    "matrixKmm = np.array([[kernel(x_shuffle[i],x_shuffle[j])for j in range(10)]for i in range(10)])\n",
    "matrixKnm = np.array([[kernel(x_shuffle[i],x_shuffle[j])for j in range(10)]for i in range(100)])\n",
    "\n",
    "KnmTKnm = np.dot(matrixKnm.T,matrixKnm)\n",
    "np.shape(KnmTKnm)\n",
    "\n",
    "inverse = np.linalg.inv(KnmTKnm/0.25 + matrixKmm)\n",
    "YTKnm = np.dot(y_shuffle.T,matrixKnm)\n",
    "# np.shape(YTKnm)\n",
    "solution = np.dot(inverse,YTKnm)/0.25\n",
    "print(np.linalg.norm(solution))\n",
    "print(solution)"
   ]
  },
  {
   "attachments": {},
   "cell_type": "markdown",
   "metadata": {},
   "source": [
    "Convexité et smoothness"
   ]
  },
  {
   "cell_type": "code",
   "execution_count": 8,
   "metadata": {},
   "outputs": [
    {
     "name": "stdout",
     "output_type": "stream",
     "text": [
      "1.1500762196963072e-14 7.0336675649960645\n"
     ]
    }
   ],
   "source": [
    "valeur_propre_minimum = np.min(np.linalg.eigvals(matrixKmm))\n",
    "valeur_propre_maximum = np.max(np.linalg.eigvals(matrixKmm))\n",
    "print(valeur_propre_minimum,valeur_propre_maximum)\n"
   ]
  }
 ],
 "metadata": {
  "kernelspec": {
   "display_name": "Python 3",
   "language": "python",
   "name": "python3"
  },
  "language_info": {
   "codemirror_mode": {
    "name": "ipython",
    "version": 3
   },
   "file_extension": ".py",
   "mimetype": "text/x-python",
   "name": "python",
   "nbconvert_exporter": "python",
   "pygments_lexer": "ipython3",
   "version": "3.9.12"
  },
  "orig_nbformat": 4,
  "vscode": {
   "interpreter": {
    "hash": "0464737ae0b70e9d4b048d357741398d415ba079b6d39c8561e75c5e82b9cea9"
   }
  }
 },
 "nbformat": 4,
 "nbformat_minor": 2
}
